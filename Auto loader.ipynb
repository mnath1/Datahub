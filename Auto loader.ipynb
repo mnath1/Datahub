{
 "cells": [
  {
   "cell_type": "code",
   "execution_count": 0,
   "metadata": {
    "application/vnd.databricks.v1+cell": {
     "cellMetadata": {
      "byteLimit": 2048000,
      "rowLimit": 10000
     },
     "inputWidgets": {},
     "nuid": "433cf642-8cc5-4fdb-9e61-292392244610",
     "showTitle": false,
     "tableResultSettingsMap": {},
     "title": ""
    }
   },
   "outputs": [],
   "source": [
    "import os\n",
    "\n",
    "# Define the volume and archive paths\n",
    "volume_path = \"/Volumes/dev_mbp_anz/default/git\"\n",
    "archive_path = f\"{volume_path}/archive\"\n",
    "\n",
    "# Function to process files\n",
    "def process_files():\n",
    "    # List all files in the volume directory\n",
    "    files = [f.path for f in dbutils.fs.ls(volume_path) if not f.isDir()]\n",
    "    \n",
    "    for file_path in files:\n",
    "        # Get the file name\n",
    "        file_name = os.path.basename(file_path)\n",
    "        print(f\"New file detected: {file_name}\")\n",
    "        \n",
    "        # (Optional) Move the file to the archive folder after processing\n",
    "        archive_file_path = f\"{archive_path}/{file_name}\"\n",
    "        dbutils.fs.mv(file_path, archive_file_path)\n",
    "        print(f\"File moved to archive: {archive_file_path}\")\n",
    "\n",
    "# Trigger the function\n",
    "process_files()\n"
   ]
  },
  {
   "cell_type": "code",
   "execution_count": 0,
   "metadata": {
    "application/vnd.databricks.v1+cell": {
     "cellMetadata": {
      "byteLimit": 2048000,
      "implicitDf": true,
      "rowLimit": 10000
     },
     "inputWidgets": {},
     "nuid": "6f1fa34e-4207-4b0c-a3c9-c7027710f62b",
     "showTitle": false,
     "tableResultSettingsMap": {},
     "title": ""
    }
   },
   "outputs": [],
   "source": [
    "%sql\n",
    "/*GRANT READ VOLUME--, MODIFY, USAGE\n",
    "ON VOLUME `dev_mbp_anz.default.git`\n",
    "TO `team-ddf--democlient3-comply--onboarding`; */\n",
    "\n",
    "--GRANT READ VOLUME ON VOLUME dev_mbp_anz.default.git TO `team-ddf--democlient3-comply--onboarding`\n",
    "--GRANT WRITE VOLUME ON VOLUME dev_mbp_anz.default.git TO `team-ddf--democlient3-comply--onboarding`\n",
    "--GRANT SELECT VOLUME ON VOLUME dev_mbp_anz.default.git TO `team-ddf--democlient3-comply--onboarding`"
   ]
  }
 ],
 "metadata": {
  "application/vnd.databricks.v1+notebook": {
   "computePreferences": null,
   "dashboards": [],
   "environmentMetadata": {
    "base_environment": "",
    "environment_version": "2"
   },
   "inputWidgetPreferences": null,
   "language": "python",
   "notebookMetadata": {
    "mostRecentlyExecutedCommandWithImplicitDF": {
     "commandId": 8843124367291877,
     "dataframes": [
      "_sqldf"
     ]
    },
    "pythonIndentUnit": 4
   },
   "notebookName": "Auto loader",
   "widgets": {}
  },
  "language_info": {
   "name": "python"
  }
 },
 "nbformat": 4,
 "nbformat_minor": 0
}
